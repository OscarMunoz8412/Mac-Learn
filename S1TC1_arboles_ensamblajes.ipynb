{
 "cells": [
  {
   "cell_type": "markdown",
   "metadata": {},
   "source": [
    "![image info](https://raw.githubusercontent.com/albahnsen/MIAD_ML_and_NLP/main/images/banner_1.png)"
   ]
  },
  {
   "cell_type": "markdown",
   "metadata": {},
   "source": [
    "# Taller: Construcción e implementación de árboles de decisión y métodos de ensamblaje\n",
    "\n",
    "En este taller podrá poner en práctica los sus conocimientos sobre construcción e implementación de árboles de decisión y métodos de ensamblajes. El taller está constituido por 9 puntos, 5 relacionados con árboles de decisión (parte A) y 4 con métodos de ensamblaje (parte B)."
   ]
  },
  {
   "cell_type": "markdown",
   "metadata": {},
   "source": [
    "## Parte A - Árboles de decisión\n",
    "\n",
    "En esta parte del taller se usará el conjunto de datos de Capital Bikeshare de Kaggle, donde cada observación representa el alquiler de una bicicleta durante una hora y día determinado. Para más detalles puede visitar los siguientes enlaces: [datos](https://github.com/justmarkham/DAT8/blob/master/data/bikeshare.csv), [dicccionario de datos](https://www.kaggle.com/c/bike-sharing-demand/data)."
   ]
  },
  {
   "cell_type": "markdown",
   "metadata": {},
   "source": [
    "### Datos prestamo de bicicletas"
   ]
  },
  {
   "cell_type": "code",
   "execution_count": 1,
   "metadata": {},
   "outputs": [],
   "source": [
    "import warnings\n",
    "warnings.filterwarnings('ignore')"
   ]
  },
  {
   "cell_type": "code",
   "execution_count": 2,
   "metadata": {},
   "outputs": [],
   "source": [
    "# Importación de librerías\n",
    "%matplotlib inline\n",
    "import pandas as pd\n",
    "import numpy as np\n",
    "from sklearn.model_selection import cross_val_score\n",
    "from sklearn.linear_model import LinearRegression\n",
    "from sklearn.tree import DecisionTreeRegressor, export_graphviz"
   ]
  },
  {
   "cell_type": "code",
   "execution_count": 3,
   "metadata": {},
   "outputs": [
    {
     "data": {
      "text/html": [
       "<div>\n",
       "<style scoped>\n",
       "    .dataframe tbody tr th:only-of-type {\n",
       "        vertical-align: middle;\n",
       "    }\n",
       "\n",
       "    .dataframe tbody tr th {\n",
       "        vertical-align: top;\n",
       "    }\n",
       "\n",
       "    .dataframe thead th {\n",
       "        text-align: right;\n",
       "    }\n",
       "</style>\n",
       "<table border=\"1\" class=\"dataframe\">\n",
       "  <thead>\n",
       "    <tr style=\"text-align: right;\">\n",
       "      <th></th>\n",
       "      <th>season</th>\n",
       "      <th>holiday</th>\n",
       "      <th>workingday</th>\n",
       "      <th>weather</th>\n",
       "      <th>temp</th>\n",
       "      <th>atemp</th>\n",
       "      <th>humidity</th>\n",
       "      <th>windspeed</th>\n",
       "      <th>casual</th>\n",
       "      <th>registered</th>\n",
       "      <th>total</th>\n",
       "      <th>hour</th>\n",
       "    </tr>\n",
       "    <tr>\n",
       "      <th>datetime</th>\n",
       "      <th></th>\n",
       "      <th></th>\n",
       "      <th></th>\n",
       "      <th></th>\n",
       "      <th></th>\n",
       "      <th></th>\n",
       "      <th></th>\n",
       "      <th></th>\n",
       "      <th></th>\n",
       "      <th></th>\n",
       "      <th></th>\n",
       "      <th></th>\n",
       "    </tr>\n",
       "  </thead>\n",
       "  <tbody>\n",
       "    <tr>\n",
       "      <th>2011-01-01 00:00:00</th>\n",
       "      <td>1</td>\n",
       "      <td>0</td>\n",
       "      <td>0</td>\n",
       "      <td>1</td>\n",
       "      <td>9.84</td>\n",
       "      <td>14.395</td>\n",
       "      <td>81</td>\n",
       "      <td>0.0</td>\n",
       "      <td>3</td>\n",
       "      <td>13</td>\n",
       "      <td>16</td>\n",
       "      <td>0</td>\n",
       "    </tr>\n",
       "    <tr>\n",
       "      <th>2011-01-01 01:00:00</th>\n",
       "      <td>1</td>\n",
       "      <td>0</td>\n",
       "      <td>0</td>\n",
       "      <td>1</td>\n",
       "      <td>9.02</td>\n",
       "      <td>13.635</td>\n",
       "      <td>80</td>\n",
       "      <td>0.0</td>\n",
       "      <td>8</td>\n",
       "      <td>32</td>\n",
       "      <td>40</td>\n",
       "      <td>1</td>\n",
       "    </tr>\n",
       "    <tr>\n",
       "      <th>2011-01-01 02:00:00</th>\n",
       "      <td>1</td>\n",
       "      <td>0</td>\n",
       "      <td>0</td>\n",
       "      <td>1</td>\n",
       "      <td>9.02</td>\n",
       "      <td>13.635</td>\n",
       "      <td>80</td>\n",
       "      <td>0.0</td>\n",
       "      <td>5</td>\n",
       "      <td>27</td>\n",
       "      <td>32</td>\n",
       "      <td>2</td>\n",
       "    </tr>\n",
       "    <tr>\n",
       "      <th>2011-01-01 03:00:00</th>\n",
       "      <td>1</td>\n",
       "      <td>0</td>\n",
       "      <td>0</td>\n",
       "      <td>1</td>\n",
       "      <td>9.84</td>\n",
       "      <td>14.395</td>\n",
       "      <td>75</td>\n",
       "      <td>0.0</td>\n",
       "      <td>3</td>\n",
       "      <td>10</td>\n",
       "      <td>13</td>\n",
       "      <td>3</td>\n",
       "    </tr>\n",
       "    <tr>\n",
       "      <th>2011-01-01 04:00:00</th>\n",
       "      <td>1</td>\n",
       "      <td>0</td>\n",
       "      <td>0</td>\n",
       "      <td>1</td>\n",
       "      <td>9.84</td>\n",
       "      <td>14.395</td>\n",
       "      <td>75</td>\n",
       "      <td>0.0</td>\n",
       "      <td>0</td>\n",
       "      <td>1</td>\n",
       "      <td>1</td>\n",
       "      <td>4</td>\n",
       "    </tr>\n",
       "  </tbody>\n",
       "</table>\n",
       "</div>"
      ],
      "text/plain": [
       "                     season  holiday  workingday  weather  temp   atemp  \\\n",
       "datetime                                                                  \n",
       "2011-01-01 00:00:00       1        0           0        1  9.84  14.395   \n",
       "2011-01-01 01:00:00       1        0           0        1  9.02  13.635   \n",
       "2011-01-01 02:00:00       1        0           0        1  9.02  13.635   \n",
       "2011-01-01 03:00:00       1        0           0        1  9.84  14.395   \n",
       "2011-01-01 04:00:00       1        0           0        1  9.84  14.395   \n",
       "\n",
       "                     humidity  windspeed  casual  registered  total  hour  \n",
       "datetime                                                                   \n",
       "2011-01-01 00:00:00        81        0.0       3          13     16     0  \n",
       "2011-01-01 01:00:00        80        0.0       8          32     40     1  \n",
       "2011-01-01 02:00:00        80        0.0       5          27     32     2  \n",
       "2011-01-01 03:00:00        75        0.0       3          10     13     3  \n",
       "2011-01-01 04:00:00        75        0.0       0           1      1     4  "
      ]
     },
     "execution_count": 3,
     "metadata": {},
     "output_type": "execute_result"
    }
   ],
   "source": [
    "# Lectura de la información de archivo .csv\n",
    "bikes = pd.read_csv('https://raw.githubusercontent.com/albahnsen/MIAD_ML_and_NLP/main/datasets/bikeshare.csv', index_col='datetime', parse_dates=True)\n",
    "# Renombrar variable \"count\" a \"total\"\n",
    "bikes.rename(columns={'count':'total'}, inplace=True)\n",
    "# Crear la hora como una variable \n",
    "bikes['hour'] = bikes.index.hour\n",
    "# Visualización\n",
    "bikes.head()"
   ]
  },
  {
   "cell_type": "markdown",
   "metadata": {},
   "source": [
    "### Punto 1 - Análisis descriptivo\n",
    "\n",
    "Ejecute las celdas 1.1 y 1.2. A partir de los resultados realice un análisis descriptivo sobre las variables hour y workingday, escriba sus inferencias sobre los datos. Para complementar su análisis puede usar métricas como máximo, mínimo, percentiles entre otros."
   ]
  },
  {
   "cell_type": "code",
   "execution_count": 4,
   "metadata": {},
   "outputs": [
    {
     "name": "stdout",
     "output_type": "stream",
     "text": [
      "Promedio de bicicletas rentadas por \n",
      "workingday\n",
      "0    188.506621\n",
      "1    193.011873\n",
      "Name: total, dtype: float64:\n",
      "workingday            0            1\n",
      "count       3474.000000  7412.000000\n",
      "mean         188.506621   193.011873\n",
      "std          173.724015   184.513659\n",
      "min            1.000000     1.000000\n",
      "25%           44.000000    41.000000\n",
      "50%          128.000000   151.000000\n",
      "75%          304.000000   277.000000\n",
      "max          783.000000   977.000000\n",
      "count    10886.000000\n",
      "mean       191.574132\n",
      "std        181.144454\n",
      "min          1.000000\n",
      "25%         42.000000\n",
      "50%        145.000000\n",
      "75%        284.000000\n",
      "max        977.000000\n",
      "Name: total, dtype: float64\n"
     ]
    }
   ],
   "source": [
    "# Celda 1.1\n",
    "bikes.groupby('workingday').total.mean()\n",
    "\n",
    "print('Promedio de bicicletas rentadas por \\n{0}:'.format(bikes.groupby('workingday').total.mean()))\n",
    "print(bikes.groupby('workingday').total.describe().T)\n",
    "print(bikes.total.describe().T)\n",
    "\n"
   ]
  },
  {
   "cell_type": "code",
   "execution_count": 5,
   "metadata": {
    "scrolled": true
   },
   "outputs": [
    {
     "name": "stdout",
     "output_type": "stream",
     "text": [
      "Promedio de bicicletas rentadas por \n",
      "hour\n",
      "0      55.138462\n",
      "1      33.859031\n",
      "2      22.899554\n",
      "3      11.757506\n",
      "4       6.407240\n",
      "5      19.767699\n",
      "6      76.259341\n",
      "7     213.116484\n",
      "8     362.769231\n",
      "9     221.780220\n",
      "10    175.092308\n",
      "11    210.674725\n",
      "12    256.508772\n",
      "13    257.787281\n",
      "14    243.442982\n",
      "15    254.298246\n",
      "16    316.372807\n",
      "17    468.765351\n",
      "18    430.859649\n",
      "19    315.278509\n",
      "20    228.517544\n",
      "21    173.370614\n",
      "22    133.576754\n",
      "23     89.508772\n",
      "Name: total, dtype: float64:\n",
      "hour           0           1           2           3           4           5   \\\n",
      "count  455.000000  454.000000  448.000000  433.000000  442.000000  452.000000   \n",
      "mean    55.138462   33.859031   22.899554   11.757506    6.407240   19.767699   \n",
      "std     43.620012   34.112105   26.110267   12.666442    4.217633   12.784293   \n",
      "min      2.000000    1.000000    1.000000    1.000000    1.000000    1.000000   \n",
      "25%     24.000000   11.000000    5.000000    3.000000    3.000000    8.000000   \n",
      "50%     41.000000   19.000000   11.000000    6.000000    6.000000   19.000000   \n",
      "75%     74.500000   46.000000   32.000000   15.000000    9.000000   29.000000   \n",
      "max    283.000000  168.000000  119.000000   66.000000   28.000000   57.000000   \n",
      "\n",
      "hour           6           7           8           9   ...          14  \\\n",
      "count  455.000000  455.000000  455.000000  455.000000  ...  456.000000   \n",
      "mean    76.259341  213.116484  362.769231  221.780220  ...  243.442982   \n",
      "std     54.745333  159.207044  231.723065   92.099209  ...  147.563199   \n",
      "min      1.000000    1.000000    8.000000   14.000000  ...   12.000000   \n",
      "25%     24.500000   63.000000  133.500000  161.000000  ...  144.000000   \n",
      "50%     75.000000  208.000000  392.000000  217.000000  ...  212.000000   \n",
      "75%    118.000000  334.000000  563.500000  294.500000  ...  311.250000   \n",
      "max    213.000000  596.000000  839.000000  414.000000  ...  730.000000   \n",
      "\n",
      "hour           15          16          17          18          19          20  \\\n",
      "count  456.000000  456.000000  456.000000  456.000000  456.000000  456.000000   \n",
      "mean   254.298246  316.372807  468.765351  430.859649  315.278509  228.517544   \n",
      "std    144.235670  145.664786  223.775485  219.908138  156.641732  116.411565   \n",
      "min      7.000000   11.000000   15.000000   23.000000   11.000000   11.000000   \n",
      "25%    154.000000  211.750000  277.000000  240.750000  190.000000  136.750000   \n",
      "50%    232.000000  309.500000  480.500000  422.500000  312.500000  224.000000   \n",
      "75%    331.000000  421.000000  608.500000  564.000000  416.000000  302.000000   \n",
      "max    724.000000  783.000000  970.000000  977.000000  743.000000  551.000000   \n",
      "\n",
      "hour           21          22          23  \n",
      "count  456.000000  456.000000  456.000000  \n",
      "mean   173.370614  133.576754   89.508772  \n",
      "std     87.629319   69.844495   51.638004  \n",
      "min      6.000000    9.000000    4.000000  \n",
      "25%    103.500000   80.000000   52.750000  \n",
      "50%    171.500000  129.000000   80.000000  \n",
      "75%    230.000000  175.000000  123.000000  \n",
      "max    584.000000  502.000000  256.000000  \n",
      "\n",
      "[8 rows x 24 columns]\n"
     ]
    }
   ],
   "source": [
    "# Celda 1.2\n",
    "bikes.groupby('hour').total.mean()\n",
    "\n",
    "print('Promedio de bicicletas rentadas por \\n{0}:'.format(bikes.groupby('hour').total.mean()))\n",
    "print(bikes.groupby('hour').total.describe().T)\n"
   ]
  },
  {
   "cell_type": "markdown",
   "metadata": {},
   "source": [
    "### Punto 2 - Análisis de gráficos\n",
    "\n",
    "Primero ejecute la celda 2.1 y asegúrese de comprender el código y el resultado. Luego, en cada una de celdas 2.2 y 2.3 escriba un código que genere una gráfica de las rentas promedio por hora cuando la variable \"workingday\" es igual a 0 e igual a 1, respectivamente. Analice y escriba sus hallazgos."
   ]
  },
  {
   "cell_type": "code",
   "execution_count": 7,
   "metadata": {},
   "outputs": [
    {
     "data": {
      "text/plain": [
       "<AxesSubplot:xlabel='hour'>"
      ]
     },
     "execution_count": 7,
     "metadata": {},
     "output_type": "execute_result"
    },
    {
     "data": {
      "image/png": "[encoded data removed]",
      "text/plain": [
       "<Figure size 1008x360 with 1 Axes>"
      ]
     },
     "metadata": {
      "needs_background": "light"
     },
     "output_type": "display_data"
    }
   ],
   "source": [
    "# Celda 2.1 - rentas promedio para cada valor de la variable \"hour\"\n",
    "\n",
    "bikes.groupby('hour').total.mean().plot(grid=True, xticks= range(0,24),  figsize=(14, 5))"
   ]
  },
  {
   "cell_type": "code",
   "execution_count": 9,
   "metadata": {},
   "outputs": [
    {
     "data": {
      "text/plain": [
       "<AxesSubplot:xlabel='hour'>"
      ]
     },
     "execution_count": 9,
     "metadata": {},
     "output_type": "execute_result"
    },
    {
     "data": {
      "image/png": "[encoded data removed]",
      "text/plain": [
       "<Figure size 1008x360 with 1 Axes>"
      ]
     },
     "metadata": {
      "needs_background": "light"
     },
     "output_type": "display_data"
    }
   ],
   "source": [
    "# Celda 2.2 - \"workingday\"=0 escriba su código y hallazgos \n",
    "bikes[bikes.workingday == 0].groupby('hour').total.mean().plot(grid=True,xticks= range(0,24),  figsize=(14, 5))"
   ]
  },
  {
   "cell_type": "markdown",
   "metadata": {},
   "source": [
    "\n",
    "Se observan dos picos en la renta promedio de bicicletas durante el día, a las 8:00 y a las 18:00 horarios de entrada y salida de las oficinas\n",
    "\n",
    "Para los días no laborales,se observa un comportamiento de renta de bicicletas luego de las 12:00, \n"
   ]
  },
  {
   "cell_type": "markdown",
   "metadata": {},
   "source": [
    "### Punto 3 - Regresión lineal\n",
    "En la celda 3 ajuste un modelo de regresión lineal a todo el conjunto de datos, utilizando \"total\" como variable de respuesta y \"hour\" y \"workingday\" como las únicas variables predictoras. Luego, imprima los coeficientes e interprételos. ¿Cuáles son las limitaciones de la regresión lineal en este caso?"
   ]
  },
  {
   "cell_type": "code",
   "execution_count": 11,
   "metadata": {},
   "outputs": [
    {
     "name": "stdout",
     "output_type": "stream",
     "text": [
      "Coeficientes [ 4.07248627 10.49206282]\n",
      "Intercepto 67.70595026191613\n",
      "Score Standart Deviation RMSE:39.423543166909226\n",
      "Score Media RMSE:165.22328668912974\n",
      "Score Media R2:0.16059115011434866\n"
     ]
    }
   ],
   "source": [
    "# Celda 3\n",
    "\n",
    "from sklearn.linear_model import LinearRegression\n",
    "from sklearn.model_selection import train_test_split\n",
    "features = ['workingday', 'hour']\n",
    "X= bikes[features]\n",
    "y= bikes.total\n",
    "\n",
    "\n",
    "reg = LinearRegression()\n",
    "reg.fit(X,y)\n",
    "rmse_scores=np.sqrt(-cross_val_score(reg, X,y, cv=10, scoring='neg_mean_squared_error'))\n",
    "\n",
    "print(f'Coeficientes {reg.coef_}')\n",
    "print(f'Intercepto {reg.intercept_}')\n",
    "print(f'Score Standart Deviation RMSE:{rmse_scores.std()}')\n",
    "print(f'Score Media RMSE:{rmse_scores.mean()}')\n",
    "print(f'Score Media R2:{reg.score(X,y)}')\n"
   ]
  },
  {
   "cell_type": "markdown",
   "metadata": {},
   "source": [
    "### Punto 4 - Árbol de decisión manual\n",
    "En la celda 4 cree un árbol de decisiones para pronosticar la variable \"total\" iterando **manualmente** sobre las variables \"hour\" y  \"workingday\". El árbol debe tener al menos 6 nodos finales."
   ]
  },
  {
   "cell_type": "code",
   "execution_count": null,
   "metadata": {},
   "outputs": [],
   "source": [
    "# Celda 4\n"
   ]
  },
  {
   "cell_type": "markdown",
   "metadata": {},
   "source": [
    "### Punto 5 - Árbol de decisión con librería\n",
    "En la celda 5 entrene un árbol de decisiones con la **librería sklearn**, usando las variables predictoras \"hour\" y \"workingday\" y calibre los parámetros que considere conveniente para obtener un mejor desempeño. Comente el desempeño del modelo con alguna métrica de desempeño de modelos de regresión y compare desempeño con el modelo del punto 3."
   ]
  },
  {
   "cell_type": "code",
   "execution_count": 14,
   "metadata": {},
   "outputs": [
    {
     "name": "stdout",
     "output_type": "stream",
     "text": [
      "MSE Minimo 114.64345547520414 Profundidad=10\n",
      "Media RMSE:107.57576561312104\n",
      "Desviación Standar RMSE:39.63050007312498\n"
     ]
    },
    {
     "data": {
      "image/png": "[encoded data removed]",
      "text/plain": [
       "<Figure size 432x288 with 1 Axes>"
      ]
     },
     "metadata": {},
     "output_type": "display_data"
    }
   ],
   "source": [
    "# Celda 5\n",
    "\n",
    "%matplotlib inline\n",
    "import matplotlib.pyplot as plt\n",
    "plt.style.use('fivethirtyeight')\n",
    "from sklearn.tree import DecisionTreeRegressor\n",
    "import math\n",
    "rmse_scores=[]\n",
    "for depth in range(30):\n",
    "  reg= DecisionTreeRegressor(max_depth=depth+1,random_state=101)\n",
    "  mse=-cross_val_score(reg, X,y, cv=10, scoring='neg_mean_squared_error').mean()\n",
    "  rmse_scores.append(np.sqrt(mse))\n",
    "index_min= np.argmin(rmse_scores)\n",
    "min_rmse= np.min(rmse_scores)\n",
    "print(f'MSE Minimo {min_rmse} Profundidad={index_min+1}')\n",
    "\n",
    "# Obteniendo la evaluacion del desempeno de este arbol final con 10 niveles de profundida\n",
    "reg= DecisionTreeRegressor(max_depth=index_min+1,random_state=101)\n",
    "reg.fit(X,y)\n",
    "mse=-cross_val_score(reg, X, y, cv=10,scoring='neg_mean_squared_error')\n",
    "rmse= np.sqrt(mse)\n",
    "\n",
    "print(f'Media RMSE:{rmse.mean()}')\n",
    "print(f'Desviación Standar RMSE:{rmse.std()}')\n",
    "df =pd.DataFrame(index=X.columns,data= reg.feature_importances_, columns=[\"Importancia\"]).sort_values(\"Importancia\")\n",
    "#print(df)\n",
    "\n",
    "# Gráfica max_depth versus RMSE (error del modelo)\n",
    "plt.plot(range(30), rmse_scores)\n",
    "plt.xlabel('max_depth')\n",
    "plt.ylabel('RMSE')\n",
    "plt.show()\n",
    "\n"
   ]
  },
  {
   "cell_type": "markdown",
   "metadata": {},
   "source": [
    "## Parte B - Métodos de ensamblajes\n",
    "En esta parte del taller se usará el conjunto de datos de Popularidad de Noticias Online. El objetivo es predecir si la notica es popular o no, la populridad esta dada por la cantidad de reacciones en redes sociales. Para más detalles puede visitar el sigueinte enlace: [datos](https://archive.ics.uci.edu/ml/datasets/online+news+popularity)."
   ]
  },
  {
   "cell_type": "markdown",
   "metadata": {},
   "source": [
    "### Datos popularidad de noticias"
   ]
  },
  {
   "cell_type": "code",
   "execution_count": 15,
   "metadata": {},
   "outputs": [
    {
     "data": {
      "text/html": [
       "<div>\n",
       "<style scoped>\n",
       "    .dataframe tbody tr th:only-of-type {\n",
       "        vertical-align: middle;\n",
       "    }\n",
       "\n",
       "    .dataframe tbody tr th {\n",
       "        vertical-align: top;\n",
       "    }\n",
       "\n",
       "    .dataframe thead th {\n",
       "        text-align: right;\n",
       "    }\n",
       "</style>\n",
       "<table border=\"1\" class=\"dataframe\">\n",
       "  <thead>\n",
       "    <tr style=\"text-align: right;\">\n",
       "      <th></th>\n",
       "      <th>url</th>\n",
       "      <th>timedelta</th>\n",
       "      <th>n_tokens_title</th>\n",
       "      <th>n_tokens_content</th>\n",
       "      <th>n_unique_tokens</th>\n",
       "      <th>n_non_stop_words</th>\n",
       "      <th>n_non_stop_unique_tokens</th>\n",
       "      <th>num_hrefs</th>\n",
       "      <th>num_self_hrefs</th>\n",
       "      <th>num_imgs</th>\n",
       "      <th>...</th>\n",
       "      <th>min_positive_polarity</th>\n",
       "      <th>max_positive_polarity</th>\n",
       "      <th>avg_negative_polarity</th>\n",
       "      <th>min_negative_polarity</th>\n",
       "      <th>max_negative_polarity</th>\n",
       "      <th>title_subjectivity</th>\n",
       "      <th>title_sentiment_polarity</th>\n",
       "      <th>abs_title_subjectivity</th>\n",
       "      <th>abs_title_sentiment_polarity</th>\n",
       "      <th>Popular</th>\n",
       "    </tr>\n",
       "  </thead>\n",
       "  <tbody>\n",
       "    <tr>\n",
       "      <th>0</th>\n",
       "      <td>http://mashable.com/2014/12/10/cia-torture-rep...</td>\n",
       "      <td>28.0</td>\n",
       "      <td>9.0</td>\n",
       "      <td>188.0</td>\n",
       "      <td>0.732620</td>\n",
       "      <td>1.0</td>\n",
       "      <td>0.844262</td>\n",
       "      <td>5.0</td>\n",
       "      <td>1.0</td>\n",
       "      <td>1.0</td>\n",
       "      <td>...</td>\n",
       "      <td>0.200000</td>\n",
       "      <td>0.80</td>\n",
       "      <td>-0.487500</td>\n",
       "      <td>-0.60</td>\n",
       "      <td>-0.250000</td>\n",
       "      <td>0.9</td>\n",
       "      <td>0.8</td>\n",
       "      <td>0.4</td>\n",
       "      <td>0.8</td>\n",
       "      <td>1</td>\n",
       "    </tr>\n",
       "    <tr>\n",
       "      <th>1</th>\n",
       "      <td>http://mashable.com/2013/10/18/bitlock-kicksta...</td>\n",
       "      <td>447.0</td>\n",
       "      <td>7.0</td>\n",
       "      <td>297.0</td>\n",
       "      <td>0.653199</td>\n",
       "      <td>1.0</td>\n",
       "      <td>0.815789</td>\n",
       "      <td>9.0</td>\n",
       "      <td>4.0</td>\n",
       "      <td>1.0</td>\n",
       "      <td>...</td>\n",
       "      <td>0.160000</td>\n",
       "      <td>0.50</td>\n",
       "      <td>-0.135340</td>\n",
       "      <td>-0.40</td>\n",
       "      <td>-0.050000</td>\n",
       "      <td>0.1</td>\n",
       "      <td>-0.1</td>\n",
       "      <td>0.4</td>\n",
       "      <td>0.1</td>\n",
       "      <td>0</td>\n",
       "    </tr>\n",
       "    <tr>\n",
       "      <th>2</th>\n",
       "      <td>http://mashable.com/2013/07/24/google-glass-po...</td>\n",
       "      <td>533.0</td>\n",
       "      <td>11.0</td>\n",
       "      <td>181.0</td>\n",
       "      <td>0.660377</td>\n",
       "      <td>1.0</td>\n",
       "      <td>0.775701</td>\n",
       "      <td>4.0</td>\n",
       "      <td>3.0</td>\n",
       "      <td>1.0</td>\n",
       "      <td>...</td>\n",
       "      <td>0.136364</td>\n",
       "      <td>1.00</td>\n",
       "      <td>0.000000</td>\n",
       "      <td>0.00</td>\n",
       "      <td>0.000000</td>\n",
       "      <td>0.3</td>\n",
       "      <td>1.0</td>\n",
       "      <td>0.2</td>\n",
       "      <td>1.0</td>\n",
       "      <td>0</td>\n",
       "    </tr>\n",
       "    <tr>\n",
       "      <th>3</th>\n",
       "      <td>http://mashable.com/2013/11/21/these-are-the-m...</td>\n",
       "      <td>413.0</td>\n",
       "      <td>12.0</td>\n",
       "      <td>781.0</td>\n",
       "      <td>0.497409</td>\n",
       "      <td>1.0</td>\n",
       "      <td>0.677350</td>\n",
       "      <td>10.0</td>\n",
       "      <td>3.0</td>\n",
       "      <td>1.0</td>\n",
       "      <td>...</td>\n",
       "      <td>0.100000</td>\n",
       "      <td>1.00</td>\n",
       "      <td>-0.195701</td>\n",
       "      <td>-0.40</td>\n",
       "      <td>-0.071429</td>\n",
       "      <td>0.0</td>\n",
       "      <td>0.0</td>\n",
       "      <td>0.5</td>\n",
       "      <td>0.0</td>\n",
       "      <td>0</td>\n",
       "    </tr>\n",
       "    <tr>\n",
       "      <th>4</th>\n",
       "      <td>http://mashable.com/2014/02/11/parking-ticket-...</td>\n",
       "      <td>331.0</td>\n",
       "      <td>8.0</td>\n",
       "      <td>177.0</td>\n",
       "      <td>0.685714</td>\n",
       "      <td>1.0</td>\n",
       "      <td>0.830357</td>\n",
       "      <td>3.0</td>\n",
       "      <td>2.0</td>\n",
       "      <td>1.0</td>\n",
       "      <td>...</td>\n",
       "      <td>0.100000</td>\n",
       "      <td>0.55</td>\n",
       "      <td>-0.175000</td>\n",
       "      <td>-0.25</td>\n",
       "      <td>-0.100000</td>\n",
       "      <td>0.0</td>\n",
       "      <td>0.0</td>\n",
       "      <td>0.5</td>\n",
       "      <td>0.0</td>\n",
       "      <td>0</td>\n",
       "    </tr>\n",
       "  </tbody>\n",
       "</table>\n",
       "<p>5 rows × 61 columns</p>\n",
       "</div>"
      ],
      "text/plain": [
       "                                                 url  timedelta  \\\n",
       "0  http://mashable.com/2014/12/10/cia-torture-rep...       28.0   \n",
       "1  http://mashable.com/2013/10/18/bitlock-kicksta...      447.0   \n",
       "2  http://mashable.com/2013/07/24/google-glass-po...      533.0   \n",
       "3  http://mashable.com/2013/11/21/these-are-the-m...      413.0   \n",
       "4  http://mashable.com/2014/02/11/parking-ticket-...      331.0   \n",
       "\n",
       "   n_tokens_title  n_tokens_content  n_unique_tokens  n_non_stop_words  \\\n",
       "0             9.0             188.0         0.732620               1.0   \n",
       "1             7.0             297.0         0.653199               1.0   \n",
       "2            11.0             181.0         0.660377               1.0   \n",
       "3            12.0             781.0         0.497409               1.0   \n",
       "4             8.0             177.0         0.685714               1.0   \n",
       "\n",
       "   n_non_stop_unique_tokens  num_hrefs  num_self_hrefs  num_imgs  ...  \\\n",
       "0                  0.844262        5.0             1.0       1.0  ...   \n",
       "1                  0.815789        9.0             4.0       1.0  ...   \n",
       "2                  0.775701        4.0             3.0       1.0  ...   \n",
       "3                  0.677350       10.0             3.0       1.0  ...   \n",
       "4                  0.830357        3.0             2.0       1.0  ...   \n",
       "\n",
       "   min_positive_polarity  max_positive_polarity  avg_negative_polarity  \\\n",
       "0               0.200000                   0.80              -0.487500   \n",
       "1               0.160000                   0.50              -0.135340   \n",
       "2               0.136364                   1.00               0.000000   \n",
       "3               0.100000                   1.00              -0.195701   \n",
       "4               0.100000                   0.55              -0.175000   \n",
       "\n",
       "   min_negative_polarity  max_negative_polarity  title_subjectivity  \\\n",
       "0                  -0.60              -0.250000                 0.9   \n",
       "1                  -0.40              -0.050000                 0.1   \n",
       "2                   0.00               0.000000                 0.3   \n",
       "3                  -0.40              -0.071429                 0.0   \n",
       "4                  -0.25              -0.100000                 0.0   \n",
       "\n",
       "   title_sentiment_polarity  abs_title_subjectivity  \\\n",
       "0                       0.8                     0.4   \n",
       "1                      -0.1                     0.4   \n",
       "2                       1.0                     0.2   \n",
       "3                       0.0                     0.5   \n",
       "4                       0.0                     0.5   \n",
       "\n",
       "   abs_title_sentiment_polarity  Popular  \n",
       "0                           0.8        1  \n",
       "1                           0.1        0  \n",
       "2                           1.0        0  \n",
       "3                           0.0        0  \n",
       "4                           0.0        0  \n",
       "\n",
       "[5 rows x 61 columns]"
      ]
     },
     "execution_count": 15,
     "metadata": {},
     "output_type": "execute_result"
    }
   ],
   "source": [
    "# Lectura de la información de archivo .csv\n",
    "df = pd.read_csv('https://raw.githubusercontent.com/albahnsen/MIAD_ML_and_NLP/main/datasets/mashable.csv', index_col=0)\n",
    "df.head()"
   ]
  },
  {
   "cell_type": "code",
   "execution_count": 16,
   "metadata": {},
   "outputs": [
    {
     "data": {
      "text/plain": [
       "0.5"
      ]
     },
     "execution_count": 16,
     "metadata": {},
     "output_type": "execute_result"
    }
   ],
   "source": [
    "# Definición variable de interes y variables predictoras\n",
    "X = df.drop(['url', 'Popular'], axis=1)\n",
    "y = df['Popular']\n",
    "y.mean()"
   ]
  },
  {
   "cell_type": "code",
   "execution_count": 17,
   "metadata": {},
   "outputs": [],
   "source": [
    "# División de la muestra en set de entrenamiento y prueba\n",
    "from sklearn.model_selection import train_test_split\n",
    "X_train, X_test, y_train, y_test = train_test_split(X, y, random_state=1)"
   ]
  },
  {
   "cell_type": "markdown",
   "metadata": {},
   "source": [
    "### Punto 6 - Árbol de decisión y regresión logística\n",
    "En la celda 6 construya un árbol de decisión y una regresión logística. Para el árbol calibre al menos un parámetro y evalúe el desempeño de cada modelo usando las métricas de Accuracy y F1-Score."
   ]
  },
  {
   "cell_type": "code",
   "execution_count": 19,
   "metadata": {},
   "outputs": [
    {
     "name": "stdout",
     "output_type": "stream",
     "text": [
      " \n",
      "\u001b[1mResultados\u001b[0m\n",
      " \n",
      "Árbol de Decisión:0.645\n",
      "Accuracy:0.645\n",
      " \n",
      "\u001b[1mResultados del modelo de Regresión Logística\u001b[0m\n",
      " \n",
      "Regresión Logística:0.611\n",
      "Accuracy Regresión Logística:0.615\n"
     ]
    }
   ],
   "source": [
    "# Celda 6\n",
    "\n",
    "from sklearn.linear_model import LogisticRegression \n",
    "from sklearn.tree import DecisionTreeClassifier\n",
    "from sklearn.metrics import f1_score, accuracy_score\n",
    "\n",
    "from sklearn.model_selection import cross_val_score\n",
    "from sklearn.tree import DecisionTreeClassifier\n",
    "\n",
    "# Árbol de decisión\n",
    "#max_depth\n",
    "max_depth_range = range(1, 21)\n",
    "\n",
    "accuracy_scores = []\n",
    "\n",
    "\n",
    "for depth in max_depth_range:\n",
    "    clf = DecisionTreeClassifier(max_depth=depth, random_state=1)\n",
    "    accuracy_scores.append(cross_val_score(clf, X, y, cv=10, scoring='accuracy').mean())\n",
    "\n",
    "# Mejor accuracy\n",
    "best_tree_params=sorted(zip(accuracy_scores, max_depth_range))[::-1][0]\n",
    "best_tree_depth=best_tree_params[1]\n",
    "\n",
    "best_tree= DecisionTreeClassifier(max_depth=best_tree_depth,random_state=101)\n",
    "best_tree.fit(X_train,y_train)\n",
    "y_predict_tree= best_tree.predict(X_test)\n",
    "\n",
    "print(\" \")\n",
    "print('\\033[1m' +\"Resultados\"+ '\\033[0m')\n",
    "print(\" \")\n",
    "print(f'Árbol de Decisión:{round(f1_score(y_test , y_predict_tree),3)}')\n",
    "print(f'Accuracy:{round(accuracy_score(y_test , y_predict_tree),3)}')\n",
    "\n",
    "\n",
    "# Regresión Logística\n",
    "#====================================================================================================\n",
    "log_regression= LogisticRegression()\n",
    "log_regression.fit(X_train,y_train)\n",
    "y_predict_reg= log_regression.predict(X_test)\n",
    "\n",
    "print(\" \")\n",
    "print('\\033[1m' +\"Resultados del modelo de Regresión Logística\"+ '\\033[0m')\n",
    "print(\" \")\n",
    "print(f'Regresión Logística:{round(f1_score(y_test , y_predict_reg),3)}')\n",
    "print(f'Accuracy Regresión Logística:{round(accuracy_score(y_test , y_predict_reg),3)}')\n"
   ]
  },
  {
   "cell_type": "markdown",
   "metadata": {},
   "source": [
    "### Punto 7 - Votación Mayoritaria\n",
    "En la celda 7 elabore un esamble con la metodología de **Votación mayoritaria** compuesto por 300 muestras bagged para cada uno de los siguientes escenarios:\n",
    "\n",
    "-100 árboles de decisión donde max_depth = None\\\n",
    "-100 árboles de decisión donde max_depth = 2\\\n",
    "-100 regresiones logísticas\n",
    "\n",
    "Evalúe los modelos utilizando las métricas de Accuracy y F1-Score."
   ]
  },
  {
   "cell_type": "code",
   "execution_count": 21,
   "metadata": {},
   "outputs": [
    {
     "name": "stdout",
     "output_type": "stream",
     "text": [
      "1: [f1 , Accuracy] = (0.6567567567567568, 0.6613333333333333)\n",
      "2: [f1 , Accuracy] = (0.631578947368421, 0.6453333333333333)\n",
      "3: [f1 , Accuracy] = (0.6134055517941774, 0.6193333333333333)\n"
     ]
    }
   ],
   "source": [
    "# Celda 7\n",
    "\n",
    "\n",
    "import sklearn.metrics as metrics\n",
    "from sklearn.ensemble import BaggingClassifier\n",
    "from sklearn.tree import DecisionTreeClassifier\n",
    "from sklearn.metrics import f1_score, accuracy_score\n",
    "from sklearn.linear_model import LinearRegression\n",
    "from sklearn.tree import DecisionTreeRegressor\n",
    "from sklearn.naive_bayes import GaussianNB\n",
    "from sklearn.neighbors import KNeighborsRegressor\n",
    "\n",
    "\n",
    "# 1 Votación mayoritaria, 300 muestras, bagged para 100 árboles de decisión, max depth = None\n",
    "clf_VM1 = BaggingClassifier(base_estimator=DecisionTreeClassifier(max_depth = None),max_samples=300, n_estimators=100, bootstrap=True,\n",
    "                        random_state=42, n_jobs=-1, oob_score=True)\n",
    "\n",
    "clf_VM1.fit(X_train, y_train)\n",
    "y_pred_VM1 = clf_VM1.predict(X_test)\n",
    "resultado_1=metrics.f1_score(y_pred_VM1,y_test ), metrics.accuracy_score(y_pred_VM1, y_test)\n",
    "print('1: [f1 , Accuracy] = '+str(resultado_1))\n",
    "\n",
    "# 2 Votación mayoritaria, 300 muestras, bagged para 100 árboles de decisión, max depth = 2\n",
    "clf_VM2 = BaggingClassifier(base_estimator=DecisionTreeClassifier(max_depth = 2),max_samples=300, n_estimators=100, bootstrap=True,\n",
    "                        random_state=42, n_jobs=-1, oob_score=True)\n",
    "\n",
    "clf_VM2.fit(X_train, y_train)\n",
    "y_pred_VM2 = clf_VM2.predict(X_test)\n",
    "resultado_2=metrics.f1_score(y_pred_VM2,y_test), metrics.accuracy_score(y_pred_VM2, y_test)\n",
    "print('2: [f1 , Accuracy] = '+str(resultado_2))\n",
    "\n",
    "\n",
    "# 3 Votación mayoritaria, 300 muestras, bagged para 100 regresiones logísticas\n",
    "clf_LR = BaggingClassifier(base_estimator=LogisticRegression(),max_samples=300, n_estimators=100, bootstrap=True,\n",
    "                        random_state=42, n_jobs=-1, oob_score=True)\n",
    "\n",
    "clf_LR.fit(X_train, y_train)\n",
    "y_pred_LR = clf_LR.predict(X_test)\n",
    "resultado_3=metrics.f1_score(y_pred_LR,y_test), metrics.accuracy_score(y_pred_LR, y_test)\n",
    "print('3: [f1 , Accuracy] = '+str(resultado_3))\n"
   ]
  },
  {
   "cell_type": "markdown",
   "metadata": {},
   "source": [
    "### Punto 8 - Votación Ponderada\n",
    "En la celda 8 elabore un ensamble con la metodología de **Votación ponderada** compuesto por 300 muestras bagged para los mismos tres escenarios del punto 7. Evalúe los modelos utilizando las métricas de Accuracy y F1-Score"
   ]
  },
  {
   "cell_type": "code",
   "execution_count": 23,
   "metadata": {},
   "outputs": [
    {
     "name": "stdout",
     "output_type": "stream",
     "text": [
      "1 Votación Mayoritaria: [f1 , Accuracy] = (0.6567567567567568, 0.6613333333333333)\n",
      "1 Votación Ponderada: [f1 , Accuracy] = (0.6631087391594397, 0.6633333333333333)\n",
      "2 Votación Mayoritaria: [f1 , Accuracy] = (0.631578947368421, 0.6453333333333333)\n",
      "2 Votación Ponderada: [f1 , Accuracy] = (0.6324549237170597, 0.6466666666666666)\n",
      "3:Votación Mayoritaria [f1 , Accuracy] = (0.6134055517941774, 0.6193333333333333)\n",
      "3 Votación Ponderada: [f1 , Accuracy] = (0.6167341430499326, 0.6213333333333333)\n"
     ]
    }
   ],
   "source": [
    "# Celda 8\n",
    "\n",
    "# 1 Votación Ponderada, 300 muestras bagged, 100 árboles de decisión, max depth = None\n",
    "clf_VM1 = BaggingClassifier(base_estimator=DecisionTreeClassifier(max_depth = None),max_samples=300, n_estimators=100, bootstrap=True,\n",
    "                        random_state=42, n_jobs=-1, oob_score=True)\n",
    "\n",
    "\n",
    "clf_VM1.fit(X_train, y_train)\n",
    "y_pred_VM1 = clf_VM1.predict(X_test)\n",
    "resultado_1=metrics.f1_score(y_pred_VM1,y_test ), metrics.accuracy_score(y_pred_VM1, y_test)\n",
    "print('1 Votación Mayoritaria: [f1 , Accuracy] = '+str(resultado_1))\n",
    "\n",
    "errors = np.zeros(clf_VM1.n_estimators)\n",
    "y_pred_all_VM1 = np.zeros((X_test.shape[0], clf_VM1.n_estimators))\n",
    "\n",
    "for i in range(clf_VM1.n_estimators):\n",
    "    oob_sample_VM1 = ~clf_VM1.estimators_samples_[i]\n",
    "    y_pred_VM1 = clf_VM1.estimators_[i].predict(X_train.values[oob_sample_VM1])\n",
    "    errors[i] = metrics.accuracy_score(y_pred_VM1, y_train.values[oob_sample_VM1])\n",
    "    y_pred_all_VM1[:, i] = clf_VM1.estimators_[i].predict(X_test)\n",
    "    \n",
    "alpha = (1 - errors) / (1 - errors).sum()\n",
    "y_pred_1 = (np.sum(y_pred_all_VM1 * alpha, axis=1) >= 0.5).astype(np.int)\n",
    "\n",
    "\n",
    "resultado_1_1=metrics.f1_score(y_pred_1, y_test), metrics.accuracy_score(y_pred_1, y_test)\n",
    "print('1 Votación Ponderada: [f1 , Accuracy] = '+str(resultado_1_1))\n",
    "\n",
    "# 2 Votación Ponderada, 300 muestras bagged, 100 árboles de decisión, max depth = 2\n",
    "clf_VM2 = BaggingClassifier(base_estimator=DecisionTreeClassifier(max_depth = 2),max_samples=300, n_estimators=100, bootstrap=True,\n",
    "                        random_state=42, n_jobs=-1, oob_score=True)\n",
    "\n",
    "clf_VM2.fit(X_train, y_train)\n",
    "y_pred_VM2 = clf_VM2.predict(X_test)\n",
    "resultado_2=metrics.f1_score(y_pred_VM2,y_test), metrics.accuracy_score(y_pred_VM2, y_test)\n",
    "print('2 Votación Mayoritaria: [f1 , Accuracy] = '+str(resultado_2))\n",
    "\n",
    "\n",
    "errors = np.zeros(clf_VM2.n_estimators)\n",
    "y_pred_all_VM2 = np.zeros((X_test.shape[0], clf_VM2.n_estimators))\n",
    "\n",
    "for i in range(clf_VM2.n_estimators):\n",
    "    oob_sample_VM2 = ~clf_VM2.estimators_samples_[i]\n",
    "    y_pred_VM2 = clf_VM2.estimators_[i].predict(X_train.values[oob_sample_VM2])\n",
    "    errors[i] = metrics.accuracy_score(y_pred_VM2, y_train.values[oob_sample_VM2])\n",
    "    y_pred_all_VM2[:, i] = clf_VM2.estimators_[i].predict(X_test)\n",
    "    \n",
    "alpha = (1 - errors) / (1 - errors).sum()\n",
    "y_pred_2 = (np.sum(y_pred_all_VM2 * alpha, axis=1) >= 0.5).astype(np.int)\n",
    "\n",
    "\n",
    "resultado_2_1=metrics.f1_score(y_pred_2, y_test), metrics.accuracy_score(y_pred_2, y_test)\n",
    "print('2 Votación Ponderada: [f1 , Accuracy] = '+str(resultado_2_1))\n",
    "\n",
    "\n",
    "# 3 Votación Ponderada, 300 muestras bagged, 100 regresiones logísticas\n",
    "\n",
    "clf_LR = BaggingClassifier(base_estimator=LogisticRegression(),max_samples=300, n_estimators=100, bootstrap=True,\n",
    "                        random_state=42, n_jobs=-1, oob_score=True)\n",
    "\n",
    "clf_LR.fit(X_train, y_train)\n",
    "y_pred_LR = clf_LR.predict(X_test)\n",
    "resultado_3=metrics.f1_score(y_pred_LR,y_test), metrics.accuracy_score(y_pred_LR, y_test)\n",
    "print('3:Votación Mayoritaria [f1 , Accuracy] = '+str(resultado_3))\n",
    "\n",
    "errors = np.zeros(clf_VM2.n_estimators)\n",
    "y_pred_all_LR = np.zeros((X_test.shape[0], clf_VM2.n_estimators))\n",
    "\n",
    "for i in range(clf_LR.n_estimators):\n",
    "    oob_sample_LR = ~clf_LR.estimators_samples_[i]\n",
    "    y_pred_LR = clf_LR.estimators_[i].predict(X_train.values[oob_sample_LR])\n",
    "    errors[i] = metrics.accuracy_score(y_pred_LR, y_train.values[oob_sample_LR])\n",
    "    y_pred_all_LR[:, i] = clf_LR.estimators_[i].predict(X_test)\n",
    "    \n",
    "alpha = (1 - errors) / (1 - errors).sum()\n",
    "y_pred_LR = (np.sum(y_pred_all_LR * alpha, axis=1) >= 0.5).astype(np.int)\n",
    "\n",
    "\n",
    "resultado_LR=metrics.f1_score(y_pred_LR, y_test), metrics.accuracy_score(y_pred_LR, y_test)\n",
    "print('3 Votación Ponderada: [f1 , Accuracy] = '+str(resultado_LR))\n"
   ]
  },
  {
   "cell_type": "markdown",
   "metadata": {},
   "source": [
    "### Punto 9 - Comparación y análisis de resultados\n",
    "En la celda 9 comente sobre los resultados obtenidos con las metodologías usadas en los puntos 7 y 8, compare los resultados y enuncie posibles ventajas o desventajas de cada una de ellas."
   ]
  },
  {
   "cell_type": "markdown",
   "metadata": {},
   "source": [
    "# Celda 9\n",
    "\n",
    "Los modelos se comportan muy similar en ambos escenarios, adicional el grado de dispersion de los errores es constante, por lo cual la penalizacion en las dospenalizaciones coinciden.\n",
    "\n",
    "La regresion logistica es la de menor desempeno en ambos escenarios"
   ]
  }
 ],
 "metadata": {
  "kernelspec": {
   "display_name": "Python 3",
   "language": "python",
   "name": "python3"
  },
  "language_info": {
   "codemirror_mode": {
    "name": "ipython",
    "version": 3
   },
   "file_extension": ".py",
   "mimetype": "text/x-python",
   "name": "python",
   "nbconvert_exporter": "python",
   "pygments_lexer": "ipython3",
   "version": "3.8.8"
  }
 },
 "nbformat": 4,
 "nbformat_minor": 4
}
